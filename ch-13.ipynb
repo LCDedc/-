{
 "cells": [
  {
   "cell_type": "markdown",
   "metadata": {
    "collapsed": true,
    "pycharm": {
     "name": "#%% md\n"
    }
   },
   "source": [
    "## 用TensorFlow并行训练神经网络\n",
    "pip install tensorflow -i https://pypi.tuna.tsinghua.edu.cn/simple"
   ]
  },
  {
   "cell_type": "code",
   "execution_count": 3,
   "outputs": [
    {
     "data": {
      "text/plain": "'2.8.0'"
     },
     "execution_count": 3,
     "metadata": {},
     "output_type": "execute_result"
    }
   ],
   "source": [
    "import tensorflow.compat.v1 as tf  #使用1.0版本的tensorflow\n",
    "\n",
    "#tf.disable_v2_behavior()\n",
    "#tf.compat.v1.disable_eager_execution()\n",
    "\n",
    "tf.__version__"
   ],
   "metadata": {
    "collapsed": false,
    "pycharm": {
     "name": "#%%\n"
    }
   }
  },
  {
   "cell_type": "markdown",
   "source": [
    "## 底层API的使用"
   ],
   "metadata": {
    "collapsed": false,
    "pycharm": {
     "name": "#%% md\n"
    }
   }
  },
  {
   "cell_type": "code",
   "execution_count": 4,
   "outputs": [
    {
     "name": "stdout",
     "output_type": "stream",
     "text": [
      "x= 1.0 -->z= 2.7\n",
      "x= 0.6 -->z= 1.9\n",
      "x=-1.8 -->z=-2.9\n"
     ]
    },
    {
     "name": "stderr",
     "output_type": "stream",
     "text": [
      "2022-05-08 14:32:31.139786: I tensorflow/core/platform/cpu_feature_guard.cc:151] This TensorFlow binary is optimized with oneAPI Deep Neural Network Library (oneDNN) to use the following CPU instructions in performance-critical operations:  AVX2 FMA\n",
      "To enable them in other operations, rebuild TensorFlow with the appropriate compiler flags.\n"
     ]
    }
   ],
   "source": [
    "#计算z=w*x+b\n",
    "g = tf.Graph()\n",
    "#创建一个计算图\n",
    "with g.as_default():\n",
    "    #创建一个变量占位符\n",
    "    x = tf.placeholder(dtype=tf.float32,\n",
    "                       shape=(None),\n",
    "                       name='x')\n",
    "    w = tf.Variable(2.0, name='weight')\n",
    "    b = tf.Variable(0.7, name='bias')\n",
    "    z = w * x + b\n",
    "    init = tf.global_variables_initializer()  #含有tf.Variable的环境下，因为tf中建立的变量是没有初始化的，也就是在debug时还不是一个tensor量，而是一个Variable变量类型\n",
    "with tf.Session(graph=g) as sess:\n",
    "    sess.run(init)  #初始化计算图一遍\n",
    "    for t in [1.0, 0.6, -1.8]:\n",
    "        print('x=%4.1f -->z=%4.1f' % (t, sess.run(z, feed_dict={x: t})))  #传入对应的x对应的值"
   ],
   "metadata": {
    "collapsed": false,
    "pycharm": {
     "name": "#%%\n"
    }
   }
  },
  {
   "cell_type": "code",
   "execution_count": 5,
   "outputs": [
    {
     "name": "stdout",
     "output_type": "stream",
     "text": [
      "[[[ 0  1  2]\n",
      "  [ 3  4  5]]\n",
      "\n",
      " [[ 6  7  8]\n",
      "  [ 9 10 11]]\n",
      "\n",
      " [[12 13 14]\n",
      "  [15 16 17]]]\n",
      "input shape:  (3, 2, 3)\n",
      "Reshaped:\n",
      " [[ 0.  1.  2.  3.  4.  5.]\n",
      " [ 6.  7.  8.  9. 10. 11.]\n",
      " [12. 13. 14. 15. 16. 17.]]\n",
      "Column Sums:\n",
      " [18. 21. 24. 27. 30. 33.]\n",
      "Column Means:\n",
      " [ 6.  7.  8.  9. 10. 11.]\n"
     ]
    }
   ],
   "source": [
    "#计算阵列结构的张量\n",
    "import numpy as np\n",
    "\n",
    "g = tf.Graph()\n",
    "with g.as_default():\n",
    "    x = tf.placeholder(dtype=tf.float32,\n",
    "                       shape=(None, 2, 3),\n",
    "                       name=\"input_x\")\n",
    "    x2 = tf.reshape(x, shape=(-1, 6),  #数组转换为6列\n",
    "                    name=\"x2\")\n",
    "    xsum = tf.reduce_sum(x2, axis=0, name='col_sum')  #计算列和\n",
    "    xmean = tf.reduce_mean(x2, axis=0, name='col_mean')  #计算列均值\n",
    "with tf.Session(graph=g) as sess:\n",
    "    x_array = np.arange(18).reshape(3, 2, 3)\n",
    "    print(x_array)\n",
    "    print('input shape: ', x_array.shape)\n",
    "    print('Reshaped:\\n',\n",
    "          sess.run(x2, feed_dict={x: x_array}))\n",
    "    print('Column Sums:\\n',\n",
    "          sess.run(xsum, feed_dict={x: x_array}))\n",
    "    print('Column Means:\\n',\n",
    "          sess.run(xmean, feed_dict={x: x_array}))"
   ],
   "metadata": {
    "collapsed": false,
    "pycharm": {
     "name": "#%%\n"
    }
   }
  },
  {
   "cell_type": "markdown",
   "source": [
    "## 使用底层API实现最小二乘估计"
   ],
   "metadata": {
    "collapsed": false,
    "pycharm": {
     "name": "#%% md\n"
    }
   }
  },
  {
   "cell_type": "code",
   "execution_count": 20,
   "outputs": [],
   "source": [
    "X_train = np.arange(10).reshape((10, 1))\n",
    "y_train = np.array([1, 1.3, 3.1, 2, 5, 6.3, 6.6, 7.4, 8, 9])\n",
    "\n",
    "\n",
    "class TfLinreg(object):\n",
    "    def __init__(self, x_dim, learning_rate=1.0, random_seed=None):\n",
    "        self.x_dim = x_dim\n",
    "        self.learning_rate = learning_rate\n",
    "        self.g = tf.Graph()\n",
    "        #创建一个计算图\n",
    "        with self.g.as_default():\n",
    "            tf.set_random_seed(random_seed)\n",
    "            self.build()\n",
    "            self.init_op = tf.global_variables_initializer()\n",
    "\n",
    "    def build(self):\n",
    "        self.X = tf.placeholder(dtype=tf.float32,\n",
    "                                shape=(None, self.x_dim),\n",
    "                                name='x_input')\n",
    "        self.y = tf.placeholder(dtype=tf.float32,\n",
    "                                shape=(None),\n",
    "                                name='y_input')\n",
    "        print(self.X)\n",
    "        print(self.y)\n",
    "        w = tf.Variable(tf.zeros(shape=(1)),\n",
    "                        name='weight')\n",
    "        b = tf.Variable(tf.zeros(shape=(1)),\n",
    "                        name=\"bias\")\n",
    "        print(w)\n",
    "        print(b)\n",
    "        self.z_net = tf.squeeze(w * self.X + b,  #删除维度为1的张量\n",
    "                                name='z_net')\n",
    "        print(self.z_net)\n",
    "        sqr_errors = tf.square(self.y - self.z_net,\n",
    "                               name='sqr_errors')\n",
    "        print(sqr_errors)\n",
    "        self.mean_cost = tf.reduce_mean(sqr_errors,\n",
    "                                        name='mean_cost')\n",
    "        optimizer = tf.train.GradientDescentOptimizer(  #使用梯度下降\n",
    "            learning_rate=self.learning_rate,\n",
    "            name='GradientDescent'\n",
    "        )\n",
    "        self.optimizer = optimizer.minimize(self.mean_cost)  #计算梯度，并自动更新参数"
   ],
   "metadata": {
    "collapsed": false,
    "pycharm": {
     "name": "#%%\n"
    }
   }
  },
  {
   "cell_type": "code",
   "execution_count": 21,
   "outputs": [
    {
     "name": "stdout",
     "output_type": "stream",
     "text": [
      "Tensor(\"x_input:0\", shape=(None, 1), dtype=float32)\n",
      "Tensor(\"y_input:0\", dtype=float32)\n",
      "<tf.Variable 'weight:0' shape=(1,) dtype=float32>\n",
      "<tf.Variable 'bias:0' shape=(1,) dtype=float32>\n",
      "Tensor(\"z_net:0\", dtype=float32)\n",
      "Tensor(\"sqr_errors:0\", dtype=float32)\n"
     ]
    }
   ],
   "source": [
    "lrmodel = TfLinreg(x_dim=X_train.shape[1], learning_rate=0.01)"
   ],
   "metadata": {
    "collapsed": false,
    "pycharm": {
     "name": "#%%\n"
    }
   }
  },
  {
   "cell_type": "code",
   "execution_count": 22,
   "outputs": [],
   "source": [
    "def train_linreg(sess, model, X_train, y_train, num_epochs=10):\n",
    "    #初始化所有的变量w和b\n",
    "    sess.run(model.init_op)\n",
    "    training_costs = []\n",
    "    for i in range(num_epochs):\n",
    "        _, cost = sess.run([model.optimizer, model.mean_cost],\n",
    "                           feed_dict={model.X: X_train,\n",
    "                                      model.y: y_train})\n",
    "        training_costs.append(cost)\n",
    "    return training_costs"
   ],
   "metadata": {
    "collapsed": false,
    "pycharm": {
     "name": "#%%\n"
    }
   }
  },
  {
   "cell_type": "code",
   "execution_count": 23,
   "outputs": [],
   "source": [
    "sess = tf.Session(graph=lrmodel.g)\n",
    "training_costs = train_linreg(sess, lrmodel, X_train, y_train)"
   ],
   "metadata": {
    "collapsed": false,
    "pycharm": {
     "name": "#%%\n"
    }
   }
  },
  {
   "cell_type": "code",
   "execution_count": 26,
   "outputs": [
    {
     "data": {
      "text/plain": "<Figure size 432x288 with 1 Axes>",
      "image/png": "[encoded data removed]"
     },
     "metadata": {
      "needs_background": "light"
     },
     "output_type": "display_data"
    }
   ],
   "source": [
    "#看模型的迭代情况\n",
    "import matplotlib.pyplot as plt\n",
    "\n",
    "plt.plot(range(1, len(training_costs) + 1), training_costs)\n",
    "plt.tight_layout()\n",
    "plt.xlabel(\"Epochs\")\n",
    "plt.ylabel(\"Training Cost\")\n",
    "plt.show()"
   ],
   "metadata": {
    "collapsed": false,
    "pycharm": {
     "name": "#%%\n"
    }
   }
  },
  {
   "cell_type": "code",
   "execution_count": 32,
   "outputs": [],
   "source": [
    "#预测函数\n",
    "def predict_linreg(sess, model, X_test):\n",
    "    y_pred = sess.run(model.z_net,\n",
    "                      feed_dict={model.X: X_test})\n",
    "    return y_pred"
   ],
   "metadata": {
    "collapsed": false,
    "pycharm": {
     "name": "#%%\n"
    }
   }
  },
  {
   "cell_type": "code",
   "execution_count": 34,
   "outputs": [
    {
     "data": {
      "text/plain": "<Figure size 432x288 with 1 Axes>",
      "image/png": "[encoded data removed]"
     },
     "metadata": {
      "needs_background": "light"
     },
     "output_type": "display_data"
    }
   ],
   "source": [
    "plt.scatter(X_train, y_train, marker='s', s=50,\n",
    "            label=\"Training Data\")\n",
    "plt.plot(X_train, predict_linreg(sess, lrmodel, X_train),\n",
    "         color='red', marker='o',\n",
    "         markersize=6, linewidth=3,\n",
    "         label=\"LinReg Model\")\n",
    "plt.xlabel(\"x\")\n",
    "plt.ylabel(\"y\")\n",
    "plt.legend()\n",
    "plt.tight_layout()\n",
    "plt.show()"
   ],
   "metadata": {
    "collapsed": false,
    "pycharm": {
     "name": "#%%\n"
    }
   }
  },
  {
   "cell_type": "markdown",
   "source": [
    "## 使用tensorflow的高级API高效率的训练神经网络"
   ],
   "metadata": {
    "collapsed": false,
    "pycharm": {
     "name": "#%% md\n"
    }
   }
  },
  {
   "cell_type": "code",
   "execution_count": 38,
   "outputs": [],
   "source": [
    "#训练手写识别数字数据\n",
    "minist = np.load(\"data/mnist_scaled.npz\")\n",
    "X_train_centered, y_train, X_test_centered, y_test = [minist[i] for i in minist]"
   ],
   "metadata": {
    "collapsed": false,
    "pycharm": {
     "name": "#%%\n"
    }
   }
  },
  {
   "cell_type": "code",
   "execution_count": 47,
   "outputs": [
    {
     "name": "stderr",
     "output_type": "stream",
     "text": [
      "/var/folders/b6/sj0f93ps3rn4fdfsd4mkgj_00000gn/T/ipykernel_1960/3033739132.py:15: UserWarning: `tf.layers.dense` is deprecated and will be removed in a future version. Please use `tf.keras.layers.Dense` instead.\n",
      "  h1=tf.layers.dense(inputs=tf_x,units=50,\n",
      "/Users/apple/opt/anaconda3/envs/Deep-Learning/lib/python3.10/site-packages/keras/legacy_tf_layers/core.py:261: UserWarning: `layer.apply` is deprecated and will be removed in a future version. Please use `layer.__call__` method instead.\n",
      "  return layer.apply(inputs)\n",
      "/var/folders/b6/sj0f93ps3rn4fdfsd4mkgj_00000gn/T/ipykernel_1960/3033739132.py:18: UserWarning: `tf.layers.dense` is deprecated and will be removed in a future version. Please use `tf.keras.layers.Dense` instead.\n",
      "  h2=tf.layers.dense(inputs=h1,units=50,\n",
      "/var/folders/b6/sj0f93ps3rn4fdfsd4mkgj_00000gn/T/ipykernel_1960/3033739132.py:21: UserWarning: `tf.layers.dense` is deprecated and will be removed in a future version. Please use `tf.keras.layers.Dense` instead.\n",
      "  logits=tf.layers.dense(inputs=h2,units=10,\n"
     ]
    }
   ],
   "source": [
    "n_features = X_train_centered.shape[1]\n",
    "n_classes = 10\n",
    "random_seed = 123\n",
    "np.random.seed(random_seed)\n",
    "g = tf.Graph()  #创建计算图\n",
    "with g.as_default():\n",
    "    tf.set_random_seed = random_seed\n",
    "    tf_x = tf.placeholder(dtype=tf.float32,  #输入x\n",
    "                          shape=(None, n_features),\n",
    "                          name=\"tf_x\")\n",
    "    tf_y = tf.placeholder(dtype=tf.int32,  #输入y\n",
    "                          shape=None,\n",
    "                          name=\"tf_y\")\n",
    "    y_onehot = tf.one_hot(indices=tf_y, depth=n_classes)  #将y转换编码，多分类模型\n",
    "    h1 = tf.layers.dense(inputs=tf_x, units=50,  #输入层\n",
    "                         activation=tf.tanh,\n",
    "                         name='layer1')\n",
    "    h2 = tf.layers.dense(inputs=h1, units=50,  #隐藏层\n",
    "                         activation=tf.tanh,\n",
    "                         name='layer2')\n",
    "    logits = tf.layers.dense(inputs=h2, units=10,  #输出层\n",
    "                             activation=None,\n",
    "                             name='layer3')\n",
    "    predictions = {\n",
    "        'classes': tf.argmax(logits, axis=1,\n",
    "                             name='predicted_classes'),\n",
    "        'probabilities': tf.nn.softmax(logits,\n",
    "                                       name='softmax_tensor')\n",
    "    }"
   ],
   "metadata": {
    "collapsed": false,
    "pycharm": {
     "name": "#%%\n"
    }
   }
  },
  {
   "cell_type": "code",
   "execution_count": 54,
   "outputs": [
    {
     "name": "stdout",
     "output_type": "stream",
     "text": [
      "--Epoch  1 Avg.Training Loss: 1.8044\n",
      "--Epoch  2 Avg.Training Loss: 1.1731\n",
      "--Epoch  3 Avg.Training Loss: 0.8922\n",
      "--Epoch  4 Avg.Training Loss: 0.7282\n",
      "--Epoch  5 Avg.Training Loss: 0.6273\n",
      "--Epoch  6 Avg.Training Loss: 0.5601\n",
      "--Epoch  7 Avg.Training Loss: 0.5120\n",
      "--Epoch  8 Avg.Training Loss: 0.4760\n",
      "--Epoch  9 Avg.Training Loss: 0.4478\n",
      "--Epoch 10 Avg.Training Loss: 0.4252\n",
      "--Epoch 11 Avg.Training Loss: 0.4065\n",
      "--Epoch 12 Avg.Training Loss: 0.3908\n",
      "--Epoch 13 Avg.Training Loss: 0.3773\n",
      "--Epoch 14 Avg.Training Loss: 0.3655\n",
      "--Epoch 15 Avg.Training Loss: 0.3552\n",
      "--Epoch 16 Avg.Training Loss: 0.3459\n",
      "--Epoch 17 Avg.Training Loss: 0.3376\n",
      "--Epoch 18 Avg.Training Loss: 0.3301\n",
      "--Epoch 19 Avg.Training Loss: 0.3232\n",
      "--Epoch 20 Avg.Training Loss: 0.3168\n",
      "--Epoch 21 Avg.Training Loss: 0.3109\n",
      "--Epoch 22 Avg.Training Loss: 0.3055\n",
      "--Epoch 23 Avg.Training Loss: 0.3004\n",
      "--Epoch 24 Avg.Training Loss: 0.2956\n",
      "--Epoch 25 Avg.Training Loss: 0.2911\n",
      "--Epoch 26 Avg.Training Loss: 0.2868\n",
      "--Epoch 27 Avg.Training Loss: 0.2827\n",
      "--Epoch 28 Avg.Training Loss: 0.2789\n",
      "--Epoch 29 Avg.Training Loss: 0.2752\n",
      "--Epoch 30 Avg.Training Loss: 0.2717\n",
      "--Epoch 31 Avg.Training Loss: 0.2683\n",
      "--Epoch 32 Avg.Training Loss: 0.2651\n",
      "--Epoch 33 Avg.Training Loss: 0.2620\n",
      "--Epoch 34 Avg.Training Loss: 0.2590\n",
      "--Epoch 35 Avg.Training Loss: 0.2561\n",
      "--Epoch 36 Avg.Training Loss: 0.2533\n",
      "--Epoch 37 Avg.Training Loss: 0.2506\n",
      "--Epoch 38 Avg.Training Loss: 0.2479\n",
      "--Epoch 39 Avg.Training Loss: 0.2454\n",
      "--Epoch 40 Avg.Training Loss: 0.2429\n",
      "--Epoch 41 Avg.Training Loss: 0.2405\n",
      "--Epoch 42 Avg.Training Loss: 0.2382\n",
      "--Epoch 43 Avg.Training Loss: 0.2359\n",
      "--Epoch 44 Avg.Training Loss: 0.2337\n",
      "--Epoch 45 Avg.Training Loss: 0.2315\n",
      "--Epoch 46 Avg.Training Loss: 0.2294\n",
      "--Epoch 47 Avg.Training Loss: 0.2274\n",
      "--Epoch 48 Avg.Training Loss: 0.2254\n",
      "--Epoch 49 Avg.Training Loss: 0.2234\n",
      "--Epoch 50 Avg.Training Loss: 0.2215\n"
     ]
    }
   ],
   "source": [
    "#定义成本函数\n",
    "with g.as_default():\n",
    "    cost = tf.losses.softmax_cross_entropy(\n",
    "        onehot_labels=y_onehot, logits=logits\n",
    "    )\n",
    "    optimizer = tf.train.GradientDescentOptimizer(\n",
    "        learning_rate=0.001\n",
    "    )\n",
    "    train_op = optimizer.minimize(loss=cost)\n",
    "    init_op = tf.global_variables_initializer()\n",
    "\n",
    "\n",
    "#定义一个函数生成大批量数据\n",
    "def creat_batch_generator(X, y, batch_size=128, shuffle=False):\n",
    "    X_copy = np.array(X)\n",
    "    y_copy = np.array(y)\n",
    "    if shuffle:\n",
    "        data = np.column_stack((X_copy, y_copy))\n",
    "        np.random.shuffle(data)\n",
    "        X_copy = data[:, :-1]\n",
    "        y_copy = data[:, -1].astype(int)\n",
    "    for i in range(0, X.shape[0], batch_size):\n",
    "        yield (X_copy[i:i + batch_size, :], y_copy[i:i + batch_size])\n",
    "\n",
    "\n",
    "##初始化tensorflow的变量并开始训练\n",
    "sess = tf.Session(graph=g)\n",
    "\n",
    "sess.run(init_op)\n",
    "\n",
    "##迭代50次,每一次迭代都是将原始数据分成64小份的数据集进行计算，每一次迭代算出所有小份数据集的平均损失\n",
    "for epoch in range(50):\n",
    "    training_costs = []\n",
    "    batch_generator = creat_batch_generator(  #该函数返回的是一个生成器\n",
    "        X_train_centered, y_train, batch_size=64\n",
    "    )\n",
    "    for batch_X, batch_y in batch_generator:  #每次调用生成器，就是产生64大小的小份数据集，用该小份数据集训练模型\n",
    "        feed = {tf_x: batch_X, tf_y: batch_y}\n",
    "        _, batch_cost = sess.run([train_op, cost], feed_dict=feed)\n",
    "        training_costs.append(batch_cost)\n",
    "    print('--Epoch %2d Avg.Training Loss: %.4f' % (epoch + 1, np.mean(training_costs)))"
   ],
   "metadata": {
    "collapsed": false,
    "pycharm": {
     "name": "#%%\n"
    }
   }
  },
  {
   "cell_type": "code",
   "execution_count": 55,
   "outputs": [
    {
     "name": "stdout",
     "output_type": "stream",
     "text": [
      "Test Accuracy:93%\n"
     ]
    }
   ],
   "source": [
    "feed = {tf_x: X_test_centered, tf_y: y_test}\n",
    "y_pred = sess.run(predictions['classes'], feed_dict=feed)\n",
    "print(\"Test Accuracy:%2.f%%\" % (100 * np.sum(y_pred == y_test) / y_test.shape[0]))"
   ],
   "metadata": {
    "collapsed": false,
    "pycharm": {
     "name": "#%%\n"
    }
   }
  },
  {
   "cell_type": "markdown",
   "source": [
    "## 用keras研发多层神经网络"
   ],
   "metadata": {
    "collapsed": false,
    "pycharm": {
     "name": "#%% md\n"
    }
   }
  },
  {
   "cell_type": "code",
   "execution_count": 57,
   "outputs": [],
   "source": [
    "minist = np.load(\"data/mnist_scaled.npz\")\n",
    "X_train_centered, y_train, X_test_centered, y_test = [minist[i] for i in minist]\n",
    "n_features = X_train_centered.shape[1]\n",
    "n_classes = 10\n",
    "random_seed = 123\n",
    "np.random.seed(random_seed)\n",
    "import tensorflow.keras as keras"
   ],
   "metadata": {
    "collapsed": false,
    "pycharm": {
     "name": "#%%\n"
    }
   }
  },
  {
   "cell_type": "code",
   "execution_count": 70,
   "outputs": [
    {
     "name": "stderr",
     "output_type": "stream",
     "text": [
      "/Users/apple/opt/anaconda3/envs/Deep-Learning/lib/python3.10/site-packages/keras/optimizer_v2/gradient_descent.py:102: UserWarning: The `lr` argument is deprecated, use `learning_rate` instead.\n",
      "  super(SGD, self).__init__(name, **kwargs)\n"
     ]
    }
   ],
   "source": [
    "#用keras自带的onehot转换编码\n",
    "tf.set_random_seed = random_seed\n",
    "y_train_onehot = keras.utils.to_categorical(y_train)\n",
    "model = keras.models.Sequential()\n",
    "model.add(\n",
    "    keras.layers.Dense(\n",
    "        units=50,\n",
    "        input_dim=X_train_centered.shape[1],\n",
    "        kernel_initializer='zeros',\n",
    "        activation='tanh'\n",
    "    )\n",
    ")\n",
    "model.add(\n",
    "    keras.layers.Dense(\n",
    "        units=50,\n",
    "        input_dim=50,\n",
    "        kernel_initializer='glorot_uniform',  #权重矩阵的初始化算法\n",
    "        bias_initializer='zeros',\n",
    "        activation='tanh'\n",
    "    )\n",
    ")\n",
    "model.add(\n",
    "    keras.layers.Dense(\n",
    "        units=y_train_onehot.shape[1],\n",
    "        input_dim=50,\n",
    "        kernel_initializer='glorot_uniform',\n",
    "        bias_initializer='zeros',\n",
    "        activation='softmax'\n",
    "    )\n",
    ")\n",
    "sgd_optimizer = keras.optimizers.SGD(\n",
    "    lr=0.001, decay=1e-7, momentum=0.9\n",
    ")\n",
    "model.compile(optimizer=sgd_optimizer,\n",
    "              loss='categorical_crossentropy')  #二分类变量的损失熵作为损失函数"
   ],
   "metadata": {
    "collapsed": false,
    "pycharm": {
     "name": "#%%\n"
    }
   }
  },
  {
   "cell_type": "code",
   "execution_count": 71,
   "outputs": [
    {
     "name": "stdout",
     "output_type": "stream",
     "text": [
      "Epoch 1/50\n",
      "844/844 [==============================] - 5s 4ms/step - loss: 0.6479 - val_loss: 0.3371\n",
      "Epoch 2/50\n",
      "844/844 [==============================] - 3s 4ms/step - loss: 0.3538 - val_loss: 0.2606\n",
      "Epoch 3/50\n",
      "844/844 [==============================] - 3s 4ms/step - loss: 0.2964 - val_loss: 0.2307\n",
      "Epoch 4/50\n",
      "844/844 [==============================] - 3s 4ms/step - loss: 0.2633 - val_loss: 0.2108\n",
      "Epoch 5/50\n",
      "844/844 [==============================] - 3s 4ms/step - loss: 0.2392 - val_loss: 0.1901\n",
      "Epoch 6/50\n",
      "844/844 [==============================] - 3s 4ms/step - loss: 0.2210 - val_loss: 0.1788\n",
      "Epoch 7/50\n",
      "844/844 [==============================] - 3s 4ms/step - loss: 0.2056 - val_loss: 0.1684\n",
      "Epoch 8/50\n",
      "844/844 [==============================] - 3s 4ms/step - loss: 0.1933 - val_loss: 0.1591\n",
      "Epoch 9/50\n",
      "844/844 [==============================] - 3s 4ms/step - loss: 0.1824 - val_loss: 0.1508\n",
      "Epoch 10/50\n",
      "844/844 [==============================] - 3s 4ms/step - loss: 0.1726 - val_loss: 0.1450\n",
      "Epoch 11/50\n",
      "844/844 [==============================] - 3s 4ms/step - loss: 0.1634 - val_loss: 0.1422\n",
      "Epoch 12/50\n",
      "844/844 [==============================] - 3s 4ms/step - loss: 0.1564 - val_loss: 0.1362\n",
      "Epoch 13/50\n",
      "844/844 [==============================] - 3s 4ms/step - loss: 0.1490 - val_loss: 0.1352\n",
      "Epoch 14/50\n",
      "844/844 [==============================] - 3s 4ms/step - loss: 0.1430 - val_loss: 0.1275\n",
      "Epoch 15/50\n",
      "844/844 [==============================] - 3s 4ms/step - loss: 0.1369 - val_loss: 0.1256\n",
      "Epoch 16/50\n",
      "844/844 [==============================] - 3s 4ms/step - loss: 0.1309 - val_loss: 0.1207\n",
      "Epoch 17/50\n",
      "844/844 [==============================] - 3s 4ms/step - loss: 0.1263 - val_loss: 0.1197\n",
      "Epoch 18/50\n",
      "844/844 [==============================] - 3s 4ms/step - loss: 0.1222 - val_loss: 0.1171\n",
      "Epoch 19/50\n",
      "844/844 [==============================] - 3s 4ms/step - loss: 0.1173 - val_loss: 0.1149\n",
      "Epoch 20/50\n",
      "844/844 [==============================] - 3s 4ms/step - loss: 0.1132 - val_loss: 0.1151\n",
      "Epoch 21/50\n",
      "844/844 [==============================] - 3s 4ms/step - loss: 0.1093 - val_loss: 0.1096\n",
      "Epoch 22/50\n",
      "844/844 [==============================] - 4s 4ms/step - loss: 0.1061 - val_loss: 0.1064\n",
      "Epoch 23/50\n",
      "844/844 [==============================] - 4s 4ms/step - loss: 0.1027 - val_loss: 0.1114\n",
      "Epoch 24/50\n",
      "844/844 [==============================] - 3s 4ms/step - loss: 0.0993 - val_loss: 0.1063\n",
      "Epoch 25/50\n",
      "844/844 [==============================] - 3s 4ms/step - loss: 0.0965 - val_loss: 0.1034\n",
      "Epoch 26/50\n",
      "844/844 [==============================] - 4s 5ms/step - loss: 0.0932 - val_loss: 0.1048\n",
      "Epoch 27/50\n",
      "844/844 [==============================] - 3s 4ms/step - loss: 0.0904 - val_loss: 0.0990\n",
      "Epoch 28/50\n",
      "844/844 [==============================] - 4s 4ms/step - loss: 0.0877 - val_loss: 0.1044\n",
      "Epoch 29/50\n",
      "844/844 [==============================] - 4s 4ms/step - loss: 0.0855 - val_loss: 0.0952\n",
      "Epoch 30/50\n",
      "844/844 [==============================] - 3s 4ms/step - loss: 0.0827 - val_loss: 0.0993\n",
      "Epoch 31/50\n",
      "844/844 [==============================] - 4s 5ms/step - loss: 0.0806 - val_loss: 0.0937\n",
      "Epoch 32/50\n",
      "844/844 [==============================] - 4s 5ms/step - loss: 0.0781 - val_loss: 0.0957\n",
      "Epoch 33/50\n",
      "844/844 [==============================] - 4s 4ms/step - loss: 0.0765 - val_loss: 0.0919\n",
      "Epoch 34/50\n",
      "844/844 [==============================] - 3s 4ms/step - loss: 0.0742 - val_loss: 0.0901\n",
      "Epoch 35/50\n",
      "844/844 [==============================] - 3s 4ms/step - loss: 0.0726 - val_loss: 0.0904\n",
      "Epoch 36/50\n",
      "844/844 [==============================] - 4s 4ms/step - loss: 0.0705 - val_loss: 0.0905\n",
      "Epoch 37/50\n",
      "844/844 [==============================] - 3s 4ms/step - loss: 0.0686 - val_loss: 0.0878\n",
      "Epoch 38/50\n",
      "844/844 [==============================] - 3s 4ms/step - loss: 0.0671 - val_loss: 0.0909\n",
      "Epoch 39/50\n",
      "844/844 [==============================] - 3s 4ms/step - loss: 0.0654 - val_loss: 0.0900\n",
      "Epoch 40/50\n",
      "844/844 [==============================] - 4s 4ms/step - loss: 0.0643 - val_loss: 0.0879\n",
      "Epoch 41/50\n",
      "844/844 [==============================] - 4s 4ms/step - loss: 0.0626 - val_loss: 0.0872\n",
      "Epoch 42/50\n",
      "844/844 [==============================] - 4s 4ms/step - loss: 0.0610 - val_loss: 0.0880\n",
      "Epoch 43/50\n",
      "844/844 [==============================] - 3s 4ms/step - loss: 0.0596 - val_loss: 0.0859\n",
      "Epoch 44/50\n",
      "844/844 [==============================] - 3s 4ms/step - loss: 0.0580 - val_loss: 0.0836\n",
      "Epoch 45/50\n",
      "844/844 [==============================] - 3s 4ms/step - loss: 0.0565 - val_loss: 0.0853\n",
      "Epoch 46/50\n",
      "844/844 [==============================] - 3s 4ms/step - loss: 0.0555 - val_loss: 0.0840\n",
      "Epoch 47/50\n",
      "844/844 [==============================] - 3s 4ms/step - loss: 0.0545 - val_loss: 0.0872\n",
      "Epoch 48/50\n",
      "844/844 [==============================] - 3s 4ms/step - loss: 0.0528 - val_loss: 0.0835\n",
      "Epoch 49/50\n",
      "844/844 [==============================] - 3s 4ms/step - loss: 0.0517 - val_loss: 0.0853\n",
      "Epoch 50/50\n",
      "844/844 [==============================] - 3s 4ms/step - loss: 0.0507 - val_loss: 0.0845\n"
     ]
    }
   ],
   "source": [
    "history = model.fit(X_train_centered, y_train_onehot,\n",
    "                    batch_size=64,\n",
    "                    epochs=50,\n",
    "                    verbose=1,\n",
    "                    validation_split=0.1)"
   ],
   "metadata": {
    "collapsed": false,
    "pycharm": {
     "name": "#%%\n"
    }
   }
  },
  {
   "cell_type": "code",
   "execution_count": 76,
   "outputs": [
    {
     "name": "stdout",
     "output_type": "stream",
     "text": [
      "First 3 predictions:  [5 0 4]\n",
      "First 3 predictions:  [5 0 4]\n",
      "Training accuracy: 98.72%\n",
      "Test accuracy: 97.21%\n"
     ]
    }
   ],
   "source": [
    "#查看准确率，predict_classes函数已经被移除\n",
    "y_train_pred = np.argmax(model.predict(X_train_centered, verbose=0), axis=1)\n",
    "print('First 3 predictions: ', y_train_pred[:3])\n",
    "\n",
    "y_train_pred = np.argmax(model.predict(X_train_centered,\n",
    "                                       verbose=0), axis=1)\n",
    "correct_preds = np.sum(y_train == y_train_pred, axis=0)\n",
    "train_acc = correct_preds / y_train.shape[0]\n",
    "\n",
    "print('First 3 predictions: ', y_train_pred[:3])\n",
    "print('Training accuracy: %.2f%%' % (train_acc * 100))\n",
    "\n",
    "y_test_pred = np.argmax(model.predict(X_test_centered,\n",
    "                                      verbose=0), axis=1)\n",
    "\n",
    "correct_preds = np.sum(y_test == y_test_pred, axis=0)\n",
    "test_acc = correct_preds / y_test.shape[0]\n",
    "print('Test accuracy: %.2f%%' % (test_acc * 100))"
   ],
   "metadata": {
    "collapsed": false,
    "pycharm": {
     "name": "#%%\n"
    }
   }
  },
  {
   "cell_type": "markdown",
   "source": [
    "## 激活函数的选择\n",
    "![](picture/逻辑函数.png)"
   ],
   "metadata": {
    "collapsed": false,
    "pycharm": {
     "name": "#%% md\n"
    }
   }
  },
  {
   "cell_type": "code",
   "execution_count": 5,
   "outputs": [
    {
     "name": "stdout",
     "output_type": "stream",
     "text": [
      "P(y=1|x)=0.888\n"
     ]
    }
   ],
   "source": [
    "import numpy as np\n",
    "X=np.array([1,1.4,2.5])\n",
    "w=np.array([0.4,0.3,0.5])\n",
    "def net_input(X,w):\n",
    "    return np.dot(X,w)\n",
    "\n",
    "def logistic(z):\n",
    "    return 1/(1+np.exp(-z))\n",
    "\n",
    "def logistic_activation(X,w):\n",
    "    z=net_input(X,w)\n",
    "    return logistic(z)\n",
    "\n",
    "print(\"P(y=1|x)=%.3f\"%logistic_activation(X,w))"
   ],
   "metadata": {
    "collapsed": false,
    "pycharm": {
     "name": "#%%\n"
    }
   }
  },
  {
   "cell_type": "code",
   "execution_count": 9,
   "outputs": [
    {
     "name": "stdout",
     "output_type": "stream",
     "text": [
      "Input Z:[1.78 1.36 1.9 ]\n",
      "Output:p: [0.85569687 0.7957597  0.86989153]\n",
      "2\n"
     ]
    }
   ],
   "source": [
    "#使用onehot编码后的输出值\n",
    "W=np.array([[1.1,1.2,0.8,0.4],\n",
    "           [0.2,0.4,1.0,1.2],\n",
    "           [0.6,1.2,0.7,1.5]])\n",
    "A=np.array([[1,0.1,0.4,0.6]])\n",
    "Z=np.dot(W,A[0])\n",
    "y_probs=logistic(Z)\n",
    "print(\"Input Z:%s\"%(Z))\n",
    "print(\"Output:p:\",y_probs)\n",
    "#概率是没有意义的，因为不能理解为多分类的概率值，因为所有概率的和不等于1，但是如果只是用来找到分类的话那是可以的\n",
    "print(np.argmax(y_probs))"
   ],
   "metadata": {
    "collapsed": false,
    "pycharm": {
     "name": "#%%\n"
    }
   }
  },
  {
   "cell_type": "markdown",
   "source": [
    "![](picture/softmax.png)"
   ],
   "metadata": {
    "collapsed": false,
    "pycharm": {
     "name": "#%% md\n"
    }
   }
  },
  {
   "cell_type": "code",
   "execution_count": 11,
   "outputs": [
    {
     "name": "stdout",
     "output_type": "stream",
     "text": [
      "Softmax p: [0.35912527 0.23596212 0.40491261]\n",
      "1.0000000000000002\n"
     ]
    }
   ],
   "source": [
    "def softmax(z):\n",
    "    return np.exp(z)/np.sum(np.exp(z))\n",
    "y_probs=softmax(Z)\n",
    "print(\"Softmax p:\",y_probs)\n",
    "print(np.sum(y_probs))"
   ],
   "metadata": {
    "collapsed": false,
    "pycharm": {
     "name": "#%%\n"
    }
   }
  },
  {
   "cell_type": "markdown",
   "source": [
    "![](picture/双曲线.png)"
   ],
   "metadata": {
    "collapsed": false,
    "pycharm": {
     "name": "#%% md\n"
    }
   }
  },
  {
   "cell_type": "code",
   "execution_count": 14,
   "outputs": [
    {
     "data": {
      "text/plain": "<Figure size 432x288 with 1 Axes>",
      "image/png": "[encoded data removed]"
     },
     "metadata": {
      "needs_background": "light"
     },
     "output_type": "display_data"
    }
   ],
   "source": [
    "def tanh(z):\n",
    "    e_p=np.exp(z)\n",
    "    e_m=np.exp(-z)\n",
    "    return (e_p-e_m)/(e_p+e_m)\n",
    "import matplotlib.pyplot as plt\n",
    "z = np.arange(-5, 5, 0.005)\n",
    "log_act = logistic(z)\n",
    "tanh_act = tanh(z)\n",
    "\n",
    "plt.ylim([-1.5, 1.5])\n",
    "plt.xlabel('net input $z$')\n",
    "plt.ylabel('activation $\\phi(z)$')\n",
    "plt.axhline(1, color='black', linestyle=':')#增加水平线\n",
    "plt.axhline(0.5, color='black', linestyle=':')\n",
    "plt.axhline(0, color='black', linestyle=':')\n",
    "plt.axhline(-0.5, color='black', linestyle=':')\n",
    "plt.axhline(-1, color='black', linestyle=':')\n",
    "\n",
    "plt.plot(z, tanh_act,\n",
    "         linewidth=3, linestyle='--',\n",
    "         label='tanh')\n",
    "\n",
    "plt.plot(z, log_act,\n",
    "         linewidth=3,\n",
    "         label='logistic')\n",
    "plt.legend(loc='lower right')\n",
    "plt.tight_layout()\n",
    "#plt.savefig('images/13_03.png')\n",
    "plt.show()\n",
    "#np.tanh#现成的双曲正切函数\n",
    "#from scipy import expit#现成的logi函数"
   ],
   "metadata": {
    "collapsed": false,
    "pycharm": {
     "name": "#%%\n"
    }
   }
  },
  {
   "cell_type": "markdown",
   "source": [
    "![](picture/relu.png)\n",
    "![](picture/激活函数.png)"
   ],
   "metadata": {
    "collapsed": false,
    "pycharm": {
     "name": "#%% md\n"
    }
   }
  },
  {
   "cell_type": "markdown",
   "source": [
    "# 总结\n",
    "## 这一章学会了如何使用开源的TensorFlow在深度学习中进行数值计算。虽然因为TensorFlow支持GPU所带来的额外复杂性使其用起来不如NumPy方便，但是它可以非常有效地定义和训练大型多层神经网络。同样你也学习了如何调用TensorFlow的API来构建复杂的机器学习和神经网络模型并有效地运行。我们首先探讨了TensorFlow的低级API编程。当为矩阵向量乘法编程并定义每个操作的细节时，调用低级API建模可能会很麻麻烦。然而好处是它允许研发人员组合这些基本操作以构建更复杂的模型。此外也讨论了TensorFlow如何利用GPU来加快大型神经网络训练和测试的计然后探索了两个高级API，用它们构建神经网络模型要比低级API容易得多。具体来说，使用TensorFlow的Layers和Keras建立多层神经网络，并学习如何使用这些API来建立模型。tanh、softmax、和ReLU。第12章从实现简单的多层感知器（MLP）识别MNIST手写图像数据集开始。而从零开始的底层实现有助于说明多层神经网络的核心概念，如正向和反向传播的神经网络，用NumPy训练神经网络非常低效而且不切合实际。"
   ],
   "metadata": {
    "collapsed": false,
    "pycharm": {
     "name": "#%% md\n"
    }
   }
  },
  {
   "cell_type": "code",
   "execution_count": null,
   "outputs": [],
   "source": [],
   "metadata": {
    "collapsed": false,
    "pycharm": {
     "name": "#%%\n"
    }
   }
  }
 ],
 "metadata": {
  "kernelspec": {
   "display_name": "Python 3",
   "language": "python",
   "name": "python3"
  },
  "language_info": {
   "codemirror_mode": {
    "name": "ipython",
    "version": 2
   },
   "file_extension": ".py",
   "mimetype": "text/x-python",
   "name": "python",
   "nbconvert_exporter": "python",
   "pygments_lexer": "ipython2",
   "version": "2.7.6"
  }
 },
 "nbformat": 4,
 "nbformat_minor": 0
}